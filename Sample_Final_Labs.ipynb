{
 "cells": [
  {
   "cell_type": "markdown",
   "metadata": {},
   "source": [
    "## Introduction to the Sample Final Test\n",
    "\n",
    "Dear Students,\n",
    "\n",
    "Welcome to the sample final test for our laboratory course. This test is designed to assess your understanding and application of the concepts and techniques we have covered throughout the semester. \n",
    "\n",
    "Instructions:\n",
    "\n",
    "Read Each Question Carefully: Ensure you understand what is being asked before you start coding.\n",
    "\n",
    "Write Clean and Commented Code: Your code should be well-organized and include comments explaining your logic.\n",
    "\n",
    "Test Your Code: Make sure to test your code with different inputs to ensure it works correctly.\n",
    "\n",
    "Conclusions: Make final decisions, decide about the statistical and practical significance. \n",
    "\n",
    "Resources:\n",
    "\n",
    "You are allowed to use your notes, textbooks, and online resources to help you complete the test. \n",
    "\n",
    "**Please be advised that the use of any Generative AI (GenAI) tools is strictly prohibited during this test. This includes, but is not limited to, tools that generate code, text, or any other form of content based on AI algorithms.**\n",
    "\n",
    "Collaboration with classmates is not permitted. This test is an individual assessment of your skills.\n",
    "\n",
    "I encourage you to take your time and approach each question methodically. This test is an opportunity to demonstrate your proficiency and understanding of the material. \n",
    "\n",
    "Best regards,\n",
    "\n",
    "Karol\n",
    "/Mathematical Statistics 2024/2025/\n",
    "\n"
   ]
  },
  {
   "cell_type": "markdown",
   "metadata": {},
   "source": [
    "# Task 1: Verify the Hypothesis\n",
    "\n",
    "Objective: Verify the hypothesis that the salaries of professors working in theoretical departments (B) are much lower than those working in applied departments (A)."
   ]
  },
  {
   "cell_type": "code",
   "metadata": {
    "ExecuteTime": {
     "end_time": "2025-01-26T11:48:23.627485Z",
     "start_time": "2025-01-26T11:48:23.428495Z"
    }
   },
   "source": [
    "import pandas as pd\n",
    "\n",
    "# Load the Salaries dataset from the URL\n",
    "url = \"https://vincentarelbundock.github.io/Rdatasets/csv/carData/Salaries.csv\"\n",
    "salaries = pd.read_csv(url)\n",
    "\n",
    "# Filter the data based on the department type\n",
    "theoretical_salaries = salaries[salaries['discipline'] == 'B']['salary']\n",
    "applied_salaries = salaries[salaries['discipline'] == 'A']['salary']\n",
    "# Display the first few rows of the dataset\n",
    "print(salaries.head())\n",
    "print(len(theoretical_salaries), len(applied_salaries))\n",
    "salaries['rank'].unique()\n",
    "import matplotlib.pyplot as plt\n",
    "\n",
    "# Example visualization\n",
    "plt.boxplot([applied_salaries, theoretical_salaries], labels=['Applied (A)', 'Theoretical (B)'])\n",
    "plt.title('Salary Distribution by Department')\n",
    "plt.ylabel('Salaries')\n",
    "plt.show()\n"
   ],
   "outputs": [
    {
     "name": "stdout",
     "output_type": "stream",
     "text": [
      "   rownames      rank discipline  yrs.since.phd  yrs.service   sex  salary\n",
      "0         1      Prof          B             19           18  Male  139750\n",
      "1         2      Prof          B             20           16  Male  173200\n",
      "2         3  AsstProf          B              4            3  Male   79750\n",
      "3         4      Prof          B             45           39  Male  115000\n",
      "4         5      Prof          B             40           41  Male  141500\n",
      "216 181\n"
     ]
    },
    {
     "name": "stderr",
     "output_type": "stream",
     "text": [
      "C:\\Users\\kizer\\AppData\\Local\\Temp\\ipykernel_59444\\3522780586.py:17: MatplotlibDeprecationWarning: The 'labels' parameter of boxplot() has been renamed 'tick_labels' since Matplotlib 3.9; support for the old name will be dropped in 3.11.\n",
      "  plt.boxplot([applied_salaries, theoretical_salaries], labels=['Applied (A)', 'Theoretical (B)'])\n"
     ]
    },
    {
     "data": {
      "text/plain": [
       "<Figure size 640x480 with 1 Axes>"
      ],
      "image/png": "[encoded data removed]"
     },
     "metadata": {},
     "output_type": "display_data"
    }
   ],
   "execution_count": 2
  },
  {
   "metadata": {
    "ExecuteTime": {
     "end_time": "2025-01-26T16:14:10.873446Z",
     "start_time": "2025-01-26T16:14:10.863653Z"
    }
   },
   "cell_type": "code",
   "source": [
    "from scipy.stats import shapiro\n",
    "import pingouin\n",
    "\n",
    "normality = pingouin.normality(\n",
    "    data=theoretical_salaries,\n",
    "    method='shapiro', # the default\n",
    "    alpha=0.05) # 0.05 is also the default\n",
    "print(normality)\n",
    "\n",
    "normality = pingouin.normality(\n",
    "    data=applied_salaries,\n",
    "    method='shapiro', # the default\n",
    "    alpha=0.05) # 0.05 is also the default\n",
    "print(normality)\n",
    "\n",
    "stat, p_value = shapiro(theoretical_salaries)\n",
    "alpha = 0.05\n",
    "print(f\"stat: {stat}, p-value: {p_value}\")\n",
    "if p_value > alpha:\n",
    "    print(\"data is normally distributed\")\n",
    "else:\n",
    "    print(\"data is not normally distributed\")\n",
    "    \n",
    "stat, p_value = shapiro(applied_salaries)\n",
    "alpha = 0.05\n",
    "print(f\"stat: {stat}, p-value: {p_value}\")\n",
    "if p_value > alpha:\n",
    "    print(\"data is normally distributed\")\n",
    "else:\n",
    "    print(\"data is not normally distributed\")"
   ],
   "outputs": [
    {
     "name": "stdout",
     "output_type": "stream",
     "text": [
      "               W      pval  normal\n",
      "salary  0.961194  0.000013   False\n",
      "              W      pval  normal\n",
      "salary  0.94183  0.000001   False\n",
      "stat: 0.9611942982211146, p-value: 1.2710090838425288e-05\n",
      "data is not normally distributed\n",
      "stat: 0.9418299292200768, p-value: 1.0267201943205751e-06\n",
      "data is not normally distributed\n"
     ]
    }
   ],
   "execution_count": 14
  },
  {
   "cell_type": "code",
   "metadata": {
    "ExecuteTime": {
     "end_time": "2025-01-26T16:15:20.152368Z",
     "start_time": "2025-01-26T16:15:20.136413Z"
    }
   },
   "source": [
    "# your solution\n",
    "#if data would be normally distributed we could use t-test one-tailed independent\n",
    "#but data is not normally distributed so we use mann-whitney U test\n",
    "from scipy.stats import mannwhitneyu\n",
    "\n",
    "age_group_effects = pingouin.mwu(theoretical_salaries, applied_salaries, alternative='less')\n",
    "print(age_group_effects)\n",
    "stat, p_value = mannwhitneyu(theoretical_salaries, applied_salaries, alternative='less')\n",
    "alpha = 0.05\n",
    "print(f\"stat: {stat}, p-value: {p_value}\")\n",
    "if p_value < alpha:\n",
    "    print(\"Reject the null hypothesis\")\n",
    "else:\n",
    "    print(\"Fail to reject the null hypothesis\")\n",
    "\n"
   ],
   "outputs": [
    {
     "name": "stdout",
     "output_type": "stream",
     "text": [
      "       U-val alternative     p-val       RBC      CLES\n",
      "MWU  23386.0        less  0.999625  0.196337  0.401831\n",
      "stat: 23386.0, p-value: 0.9996253831629534\n",
      "Fail to reject the null hypothesis\n"
     ]
    }
   ],
   "execution_count": 16
  },
  {
   "metadata": {},
   "cell_type": "markdown",
   "source": "failed to reject null hypothesis so we can say that salaries of professors working in theoretical departments are not much lower than those working in applied departments."
  },
  {
   "cell_type": "markdown",
   "metadata": {},
   "source": [
    "# Task 2: Verify the Hypothesis\n",
    "\n",
    "Objective: Verify if the proportion of higher rank professors (associate and full professors) is significantly different between male and female scientists."
   ]
  },
  {
   "cell_type": "code",
   "metadata": {
    "ExecuteTime": {
     "end_time": "2025-01-26T11:49:27.573265Z",
     "start_time": "2025-01-26T11:49:27.560130Z"
    }
   },
   "source": [
    "# your solution\n",
    "from scipy.stats import chi2_contingency\n",
    "higher_rank = salaries[(salaries['rank'] == 'AsstProf') | (salaries['rank'] == 'Prof')]\n",
    "lower_rank = salaries[salaries['rank'] == 'AssocProf']\n",
    "num_high_men = len(higher_rank[higher_rank['sex'] == 'Male'])\n",
    "num_high_women = len(higher_rank[higher_rank['sex'] =='Female'])\n",
    "num_lower_men = len(lower_rank[lower_rank['sex'] == 'Male'])\n",
    "num_all_women = len(lower_rank[lower_rank['sex'] == 'Female']) \n",
    "\n",
    "\n",
    "contingency_table = [\n",
    "    [num_high_men, num_lower_men],  # Male: [Higher Rank, Lower Rank]\n",
    "    [num_high_women, num_all_women]   # Female: [Higher Rank, Lower Rank]\n",
    "]\n",
    "\n",
    "print(contingency_table)\n",
    "\n",
    "\n",
    "stat, p_value, dof, expected = chi2_contingency(contingency_table)\n",
    "\n",
    "# Display results\n",
    "print(\"Chi-Squared Test for Independence:\")\n",
    "print(f\"Chi-Squared Statistic: {stat}, P-Value: {p_value}, Degrees of Freedom: {dof}\")\n",
    "print(\"Expected Frequencies:\")\n",
    "print(expected)\n",
    "\n",
    "# Interpret results\n",
    "alpha = 0.05\n",
    "if p_value < alpha:\n",
    "    print(\"Reject the null hypothesis: Proportions of higher-rank professors differ by gender.\")\n",
    "else:\n",
    "    print(\"Fail to reject the null hypothesis: No significant difference in proportions by gender.\")"
   ],
   "outputs": [
    {
     "name": "stdout",
     "output_type": "stream",
     "text": [
      "[[304, 54], [29, 10]]\n",
      "Chi-Squared Test for Independence:\n",
      "Chi-Squared Statistic: 2.170598964517, P-Value: 0.14067143446846783, Degrees of Freedom: 1\n",
      "Expected Frequencies:\n",
      "[[300.28715365  57.71284635]\n",
      " [ 32.71284635   6.28715365]]\n",
      "Fail to reject the null hypothesis: No significant difference in proportions by gender.\n"
     ]
    }
   ],
   "execution_count": 4
  },
  {
   "cell_type": "markdown",
   "metadata": {},
   "source": [
    "# Task 3: Verify the Hypothesis\n",
    "\n",
    "Objective: Verify if the salaries of professors are significantly different based on rank, gender, and discipline, and check for interactions between these groups.\n",
    "\n",
    "## Main effects hypothesis\n",
    "   - Null hypothesis: salaries do not differ based on rank, gender or discipline individually\n",
    "   - Alternative hypothesis: salaries differ based on rank, gender or discipline individually\n",
    "\n",
    "## Interaction effects hypothesis:\n",
    "   - Null hypothesis: there are no interactions between rank, gender and discipline affecting salaries\n",
    "   - Alternative hypothesis: there are significant interactions between factors affecting salaries"
   ]
  },
  {
   "metadata": {
    "ExecuteTime": {
     "end_time": "2025-01-26T11:45:37.101320Z",
     "start_time": "2025-01-26T11:45:37.077670Z"
    }
   },
   "cell_type": "code",
   "source": [
    "import statsmodels.api as sm\n",
    "from statsmodels.formula.api import ols\n",
    "\n",
    "# Fit the ANOVA model\n",
    "model = ols('salary ~ rank * sex * discipline', data=salaries).fit()\n",
    "anova_table = sm.stats.anova_lm(model, typ=2)\n",
    "\n",
    "# Display the ANOVA table\n",
    "print(anova_table)\n"
   ],
   "outputs": [
    {
     "name": "stdout",
     "output_type": "stream",
     "text": [
      "                           sum_sq     df           F        PR(>F)\n",
      "rank                 1.452438e+11    2.0  140.044590  1.980674e-46\n",
      "sex                  7.587567e+08    1.0    1.463192  2.271652e-01\n",
      "discipline           1.847478e+10    1.0   35.626894  5.427699e-09\n",
      "rank:sex             2.184938e+08    2.0    0.210672  8.101327e-01\n",
      "rank:discipline      4.748308e+08    2.0    0.457833  6.329968e-01\n",
      "sex:discipline       4.619741e+08    1.0    0.890874  3.458325e-01\n",
      "rank:sex:discipline  1.323930e+08    2.0    0.127654  8.801953e-01\n",
      "Residual             1.996466e+11  385.0         NaN           NaN\n"
     ]
    }
   ],
   "execution_count": 19
  },
  {
   "cell_type": "code",
   "metadata": {
    "ExecuteTime": {
     "end_time": "2025-01-26T11:45:37.180413Z",
     "start_time": "2025-01-26T11:45:37.154892Z"
    }
   },
   "source": [
    "# your solution\n",
    "# Function to identify outliers\n",
    "from scipy.stats import zscore\n",
    "def identify_outliers(group):\n",
    "    z_scores = zscore(group['salary'])\n",
    "    abs_z_scores = abs(z_scores)\n",
    "    outliers = abs_z_scores > 3\n",
    "    return group[outliers]\n",
    "\n",
    "# Group by 'rank' and 'gender' and 'discipline' and identify outliers in 'salary'\n",
    "outliers = salaries.groupby(['rank', 'sex', 'discipline']).apply(identify_outliers).reset_index(drop=True)\n",
    "# Display the outliers\n",
    "print(outliers)"
   ],
   "outputs": [
    {
     "name": "stdout",
     "output_type": "stream",
     "text": [
      "   rownames  rank discipline  yrs.since.phd  yrs.service   sex  salary\n",
      "0        44  Prof          B             38           38  Male  231545\n"
     ]
    },
    {
     "name": "stderr",
     "output_type": "stream",
     "text": [
      "C:\\Users\\kizer\\AppData\\Local\\Temp\\ipykernel_46156\\1236564193.py:11: DeprecationWarning: DataFrameGroupBy.apply operated on the grouping columns. This behavior is deprecated, and in a future version of pandas the grouping columns will be excluded from the operation. Either pass `include_groups=False` to exclude the groupings or explicitly select the grouping columns after groupby to silence this warning.\n",
      "  outliers = salaries.groupby(['rank', 'sex', 'discipline']).apply(identify_outliers).reset_index(drop=True)\n"
     ]
    }
   ],
   "execution_count": 20
  },
  {
   "metadata": {
    "ExecuteTime": {
     "end_time": "2025-01-26T11:45:38.373229Z",
     "start_time": "2025-01-26T11:45:37.250114Z"
    }
   },
   "cell_type": "code",
   "source": [
    "import seaborn as sns\n",
    "import matplotlib.pyplot as plt\n",
    "\n",
    "# Create a boxplot\n",
    "sns.set(style=\"whitegrid\")\n",
    "g = sns.catplot(x=\"sex\", y=\"salary\", col=\"rank\", data=salaries, kind=\"box\", height=4, aspect=0.7)\n",
    "print(len(salaries[salaries['rank'] == 'Prof']))\n",
    "# Set the titles and labels\n",
    "g.set_titles(\"{col_name}\")\n",
    "g.set_axis_labels(\"sex\", \"salary\")"
   ],
   "outputs": [
    {
     "name": "stdout",
     "output_type": "stream",
     "text": [
      "266\n"
     ]
    },
    {
     "data": {
      "text/plain": [
       "<seaborn.axisgrid.FacetGrid at 0x214af37ed20>"
      ]
     },
     "execution_count": 21,
     "metadata": {},
     "output_type": "execute_result"
    },
    {
     "data": {
      "text/plain": [
       "<Figure size 852.222x400 with 3 Axes>"
      ],
      "image/png": "[encoded data removed]"
     },
     "metadata": {},
     "output_type": "display_data"
    }
   ],
   "execution_count": 21
  },
  {
   "metadata": {
    "ExecuteTime": {
     "end_time": "2025-01-26T11:45:38.421317Z",
     "start_time": "2025-01-26T11:45:38.397731Z"
    }
   },
   "cell_type": "code",
   "source": [
    "from scipy.stats import levene, shapiro\n",
    "\n",
    "# Example for normality and variance testing\n",
    "shapiro_result = shapiro(salaries['salary'])\n",
    "levene_result = levene(*[group['salary'] for _, group in salaries.groupby(['rank', 'sex', 'discipline'])])\n",
    "print(\"Shapiro-Wilk:\", shapiro_result)\n",
    "print(\"Levene:\", levene_result)\n"
   ],
   "outputs": [
    {
     "name": "stdout",
     "output_type": "stream",
     "text": [
      "Shapiro-Wilk: ShapiroResult(statistic=0.9598763278424713, pvalue=6.0760521230309575e-09)\n",
      "Levene: LeveneResult(statistic=9.046974891330155, pvalue=2.063886339073554e-14)\n"
     ]
    }
   ],
   "execution_count": 22
  },
  {
   "metadata": {},
   "cell_type": "markdown",
   "source": "data don't pass normality and variance testing, let's try to transform them into log or square root\n"
  },
  {
   "metadata": {
    "ExecuteTime": {
     "end_time": "2025-01-26T11:45:38.490342Z",
     "start_time": "2025-01-26T11:45:38.480925Z"
    }
   },
   "cell_type": "code",
   "source": [
    "import numpy as np\n",
    "salaries['salary_log'] = np.log(salaries['salary'])\n",
    "shapiro_result = shapiro(salaries['salary_log'])\n",
    "levene_result = levene(*[group['salary_log'] for _, group in salaries.groupby(['rank', 'sex', 'discipline'])])\n",
    "print(\"Shapiro-Wilk:\", shapiro_result)\n",
    "print(\"Levene:\", levene_result)"
   ],
   "outputs": [
    {
     "name": "stdout",
     "output_type": "stream",
     "text": [
      "Shapiro-Wilk: ShapiroResult(statistic=0.9902060850384236, pvalue=0.009558945366679056)\n",
      "Levene: LeveneResult(statistic=7.0927354800992015, pvalue=5.408840884368279e-11)\n"
     ]
    }
   ],
   "execution_count": 23
  },
  {
   "metadata": {},
   "cell_type": "markdown",
   "source": "normality a bit better but still data is not normal and variance are not passing tests"
  },
  {
   "metadata": {
    "ExecuteTime": {
     "end_time": "2025-01-26T11:45:38.541945Z",
     "start_time": "2025-01-26T11:45:38.533987Z"
    }
   },
   "cell_type": "code",
   "source": [
    "salaries['salary_sqrt'] = np.sqrt(salaries['salary'])\n",
    "shapiro_result = shapiro(salaries['salary_sqrt'])\n",
    "levene_result = levene(*[group['salary_sqrt'] for _, group in salaries.groupby(['rank', 'sex', 'discipline'])])\n",
    "print(\"Shapiro-Wilk:\", shapiro_result)\n",
    "print(\"Levene:\", levene_result)"
   ],
   "outputs": [
    {
     "name": "stdout",
     "output_type": "stream",
     "text": [
      "Shapiro-Wilk: ShapiroResult(statistic=0.9801808947141982, pvalue=2.9113400676270653e-05)\n",
      "Levene: LeveneResult(statistic=8.374826348645382, pvalue=3.0390580477481604e-13)\n"
     ]
    }
   ],
   "execution_count": 24
  },
  {
   "metadata": {},
   "cell_type": "markdown",
   "source": "square rooting also didn't help"
  },
  {
   "metadata": {
    "ExecuteTime": {
     "end_time": "2025-01-26T11:45:38.605955Z",
     "start_time": "2025-01-26T11:45:38.593437Z"
    }
   },
   "cell_type": "code",
   "source": [
    "# i will use Kruskal-wallis test since it is non-parametric equivalence to one-way anova and can be extended for comparing multiple independent groups\n",
    "from scipy.stats import kruskal\n",
    "\n",
    "# Example: Kruskal-Wallis test for rank\n",
    "ranks = [group['salary'] for _, group in salaries.groupby('rank')]\n",
    "stat, p_value = kruskal(*ranks)\n",
    "print(f\"Kruskal-Wallis Test for Rank: stat = {stat}, p-value = {p_value}\")\n",
    "\n",
    "# Example: Kruskal-Wallis test for gender\n",
    "ranks = [group['salary'] for _, group in salaries.groupby('sex')]\n",
    "stat, p_value = kruskal(*ranks)\n",
    "print(f\"Kruskal-Wallis Test for sex: stat = {stat}, p-value = {p_value}\")\n",
    "\n",
    "# Example: Kruskal-Wallis test for discipline\n",
    "ranks = [group['salary'] for _, group in salaries.groupby('discipline')]\n",
    "stat, p_value = kruskal(*ranks)\n",
    "print(f\"Kruskal-Wallis Test for discipline: Stat= {stat}, p-value = {p_value}\")\n"
   ],
   "outputs": [
    {
     "name": "stdout",
     "output_type": "stream",
     "text": [
      "Kruskal-Wallis Test for Rank: stat = 194.00613573809926, p-value = 7.449084431170446e-43\n",
      "Kruskal-Wallis Test for sex: stat = 6.985120835074707, p-value = 0.008219010395378852\n",
      "Kruskal-Wallis Test for discipline: Stat= 11.359998851888736, p-value = 0.0007504287087290172\n"
     ]
    }
   ],
   "execution_count": 25
  },
  {
   "metadata": {},
   "cell_type": "markdown",
   "source": "P-values are less than 0.05 so we reject null hypothesis that all groups have the same median value. At least one sample is diffrent from the other"
  },
  {
   "metadata": {
    "ExecuteTime": {
     "end_time": "2025-01-26T11:49:48.916361Z",
     "start_time": "2025-01-26T11:49:48.854618Z"
    }
   },
   "cell_type": "code",
   "source": [
    "#post-hoc analysis but use it when ANOVA is performed\n",
    "from scikit_posthocs import posthoc_dunn\n",
    "\n",
    "# Perform Dunn's test for pairwise comparisons\n",
    "posthoc = posthoc_dunn(salaries, val_col='salary', group_col='rank', p_adjust='bonferroni')\n",
    "print(posthoc)\n"
   ],
   "outputs": [
    {
     "name": "stdout",
     "output_type": "stream",
     "text": [
      "              AssocProf      AsstProf          Prof\n",
      "AssocProf  1.000000e+00  3.704516e-03  2.806802e-16\n",
      "AsstProf   3.704516e-03  1.000000e+00  6.501092e-36\n",
      "Prof       2.806802e-16  6.501092e-36  1.000000e+00\n"
     ]
    }
   ],
   "execution_count": 5
  },
  {
   "metadata": {
    "ExecuteTime": {
     "end_time": "2025-01-26T12:07:38.480094Z",
     "start_time": "2025-01-26T12:07:38.341472Z"
    }
   },
   "cell_type": "code",
   "source": [
    "import scikit_posthocs as sp\n",
    "\n",
    "# Perform Nemenyi's test for pairwise comparisons\n",
    "posthoc = sp.posthoc_nemenyi(\n",
    "    salaries, val_col='salary', group_col='rank'\n",
    ")\n",
    "print(posthoc)\n",
    "import seaborn as sns\n",
    "import matplotlib.pyplot as plt\n",
    "\n",
    "# Plot a heatmap of the results\n",
    "sns.heatmap(posthoc, annot=True, fmt=\".4f\", cmap=\"coolwarm\")\n",
    "plt.title(\"Nemenyi Post-Hoc Test Results\")\n",
    "plt.show()\n"
   ],
   "outputs": [
    {
     "name": "stdout",
     "output_type": "stream",
     "text": [
      "              AssocProf      AsstProf          Prof\n",
      "AssocProf  1.000000e+00  5.414156e-03  9.884713e-16\n",
      "AsstProf   5.414156e-03  1.000000e+00  3.442861e-35\n",
      "Prof       9.884713e-16  3.442861e-35  1.000000e+00\n"
     ]
    },
    {
     "data": {
      "text/plain": [
       "<Figure size 640x480 with 2 Axes>"
      ],
      "image/png": "[encoded data removed]"
     },
     "metadata": {},
     "output_type": "display_data"
    }
   ],
   "execution_count": 12
  },
  {
   "metadata": {},
   "cell_type": "markdown",
   "source": "Every p_value is less than 0.05 so there is a significant difference between rank of teacher and their salary"
  },
  {
   "metadata": {
    "ExecuteTime": {
     "end_time": "2025-01-26T12:07:26.088323Z",
     "start_time": "2025-01-26T12:07:25.910801Z"
    }
   },
   "cell_type": "code",
   "source": [
    "import scikit_posthocs as sp\n",
    "import pandas as pd\n",
    "\n",
    "# Perform Nemenyi's test for pairwise comparisons\n",
    "posthoc = sp.posthoc_nemenyi(\n",
    "    salaries, val_col='salary', group_col='sex'\n",
    ")\n",
    "print(posthoc)\n",
    "import seaborn as sns\n",
    "import matplotlib.pyplot as plt\n",
    "\n",
    "# Plot a heatmap of the results\n",
    "sns.heatmap(posthoc, annot=True, fmt=\".4f\", cmap=\"coolwarm\")\n",
    "plt.title(\"Nemenyi Post-Hoc Test Results\")\n",
    "plt.show()\n"
   ],
   "outputs": [
    {
     "name": "stdout",
     "output_type": "stream",
     "text": [
      "          Female      Male\n",
      "Female  1.000000  0.008219\n",
      "Male    0.008219  1.000000\n"
     ]
    },
    {
     "data": {
      "text/plain": [
       "<Figure size 640x480 with 2 Axes>"
      ],
      "image/png": "[encoded data removed]"
     },
     "metadata": {},
     "output_type": "display_data"
    }
   ],
   "execution_count": 11
  },
  {
   "metadata": {},
   "cell_type": "markdown",
   "source": "it seems also that gender has impact on salaries - p_values are less than 0.05 threshold "
  },
  {
   "metadata": {
    "ExecuteTime": {
     "end_time": "2025-01-26T12:07:15.221270Z",
     "start_time": "2025-01-26T12:07:15.107121Z"
    }
   },
   "cell_type": "code",
   "source": [
    "import scikit_posthocs as sp\n",
    "import pandas as pd\n",
    "\n",
    "# Perform Nemenyi's test for pairwise comparisons\n",
    "posthoc = sp.posthoc_nemenyi(\n",
    "    salaries, val_col='salary', group_col='discipline'\n",
    ")\n",
    "print(posthoc)\n",
    "import seaborn as sns\n",
    "import matplotlib.pyplot as plt\n",
    "\n",
    "# Plot a heatmap of the results\n",
    "sns.heatmap(posthoc, annot=True, fmt=\".4f\", cmap=\"coolwarm\")\n",
    "plt.title(\"Nemenyi Post-Hoc Test Results\")\n",
    "plt.show()\n"
   ],
   "outputs": [
    {
     "name": "stdout",
     "output_type": "stream",
     "text": [
      "         A        B\n",
      "A  1.00000  0.00075\n",
      "B  0.00075  1.00000\n"
     ]
    },
    {
     "data": {
      "text/plain": [
       "<Figure size 640x480 with 2 Axes>"
      ],
      "image/png": "[encoded data removed]"
     },
     "metadata": {},
     "output_type": "display_data"
    }
   ],
   "execution_count": 10
  },
  {
   "metadata": {},
   "cell_type": "markdown",
   "source": "Also discipline has impact on salary, p_value is less than 0.05"
  },
  {
   "metadata": {
    "ExecuteTime": {
     "end_time": "2025-01-26T12:06:44.367340Z",
     "start_time": "2025-01-26T12:06:43.935648Z"
    }
   },
   "cell_type": "code",
   "source": [
    "import seaborn as sns\n",
    "import matplotlib.pyplot as plt\n",
    "\n",
    "sns.boxplot(x='rank', y='salary', data=salaries)\n",
    "plt.title('Salary by Rank')\n",
    "plt.show()\n",
    "\n",
    "sns.boxplot(x='sex', y='salary', data=salaries)\n",
    "plt.title('Salary by Gender')\n",
    "plt.show()\n",
    "\n",
    "sns.boxplot(x='discipline', y='salary', data=salaries)\n",
    "plt.title('Salary by Discipline')\n",
    "plt.show()\n"
   ],
   "outputs": [
    {
     "data": {
      "text/plain": [
       "<Figure size 640x480 with 1 Axes>"
      ],
      "image/png": "[encoded data removed]"
     },
     "metadata": {},
     "output_type": "display_data"
    },
    {
     "data": {
      "text/plain": [
       "<Figure size 640x480 with 1 Axes>"
      ],
      "image/png": "[encoded data removed]"
     },
     "metadata": {},
     "output_type": "display_data"
    },
    {
     "data": {
      "text/plain": [
       "<Figure size 640x480 with 1 Axes>"
      ],
      "image/png": "[encoded data removed]"
     },
     "metadata": {},
     "output_type": "display_data"
    }
   ],
   "execution_count": 9
  },
  {
   "cell_type": "markdown",
   "metadata": {},
   "source": [
    "# Task 4: Verify the Hypothesis\n",
    "\n",
    "Objective: Verify if credit amounts (in DM) are significantly different for people applying with different job, personal status, sex, or age."
   ]
  },
  {
   "cell_type": "code",
   "execution_count": 10,
   "metadata": {},
   "outputs": [
    {
     "name": "stdout",
     "output_type": "stream",
     "text": [
      "                status  duration                            credit_history  \\\n",
      "0         ... < 100 DM         6   critical account/other credits existing   \n",
      "1    0 <= ... < 200 DM        48  existing credits paid back duly till now   \n",
      "2  no checking account        12   critical account/other credits existing   \n",
      "3         ... < 100 DM        42  existing credits paid back duly till now   \n",
      "4         ... < 100 DM        24           delay in paying off in the past   \n",
      "\n",
      "               purpose  amount                     savings  \\\n",
      "0  domestic appliances    1169  unknown/no savings account   \n",
      "1  domestic appliances    5951                ... < 100 DM   \n",
      "2           retraining    2096                ... < 100 DM   \n",
      "3     radio/television    7882                ... < 100 DM   \n",
      "4            car (new)    4870                ... < 100 DM   \n",
      "\n",
      "  employment_duration  installment_rate                  personal_status_sex  \\\n",
      "0      ... >= 7 years                 4                        male : single   \n",
      "1  1 <= ... < 4 years                 2  female : divorced/separated/married   \n",
      "2  4 <= ... < 7 years                 2                        male : single   \n",
      "3  4 <= ... < 7 years                 2                        male : single   \n",
      "4  1 <= ... < 4 years                 3                        male : single   \n",
      "\n",
      "  other_debtors  ...                                           property age  \\\n",
      "0          none  ...                                        real estate  67   \n",
      "1          none  ...                                        real estate  22   \n",
      "2          none  ...                                        real estate  49   \n",
      "3     guarantor  ...  building society savings agreement/life insurance  45   \n",
      "4          none  ...                                unknown/no property  53   \n",
      "\n",
      "   other_installment_plans   housing number_credits  \\\n",
      "0                     none       own              2   \n",
      "1                     none       own              1   \n",
      "2                     none       own              1   \n",
      "3                     none  for free              1   \n",
      "4                     none  for free              2   \n",
      "\n",
      "                         job people_liable  telephone foreign_worker  \\\n",
      "0  skilled employee/official             1        yes            yes   \n",
      "1  skilled employee/official             1         no            yes   \n",
      "2       unskilled - resident             2         no            yes   \n",
      "3  skilled employee/official             2         no            yes   \n",
      "4  skilled employee/official             2         no            yes   \n",
      "\n",
      "  credit_risk  \n",
      "0           1  \n",
      "1           0  \n",
      "2           1  \n",
      "3           1  \n",
      "4           0  \n",
      "\n",
      "[5 rows x 21 columns]\n"
     ]
    }
   ],
   "source": [
    "import pandas as pd\n",
    "\n",
    "# Load the GermanCredit dataset from GitHub\n",
    "url = \"https://raw.githubusercontent.com/selva86/datasets/master/GermanCredit.csv\"\n",
    "germancredit = pd.read_csv(url)\n",
    "\n",
    "# Display the first few rows of the dataset\n",
    "print(germancredit.head())"
   ]
  },
  {
   "cell_type": "code",
   "execution_count": null,
   "metadata": {},
   "outputs": [],
   "source": [
    "# your solution"
   ]
  },
  {
   "cell_type": "markdown",
   "metadata": {},
   "source": [
    "# Task 5: Evaluate Interaction Between Group and Time\n",
    "\n",
    "Description: \n",
    "\n",
    "The data provide the anxiety score, measured at three time points, of three groups of individuals practicing physical exercises at different levels (grp1: basal, grp2: moderate and grp3: high)\n",
    "\n",
    "Objective: Evaluate if there is an interaction between group and time in explaining anxiety scores."
   ]
  },
  {
   "cell_type": "code",
   "execution_count": 13,
   "metadata": {},
   "outputs": [
    {
     "name": "stdout",
     "output_type": "stream",
     "text": [
      "   Unnamed: 0  id group    t1    t2    t3\n",
      "0           1   1  grp1  14.1  14.4  14.1\n",
      "1           2   2  grp1  14.5  14.6  14.3\n",
      "2           3   3  grp1  15.7  15.2  14.9\n",
      "3           4   4  grp1  16.0  15.5  15.3\n",
      "4           5   5  grp1  16.5  15.8  15.7\n"
     ]
    }
   ],
   "source": [
    "import pandas as pd\n",
    "\n",
    "# Load the anxiety dataset from GitHub\n",
    "url = \"https://raw.githubusercontent.com/kflisikowski/ds/master/anxiety.csv\"\n",
    "anxiety_data = pd.read_csv(url)\n",
    "\n",
    "# Display the first few rows of the dataset\n",
    "print(anxiety_data.head())"
   ]
  },
  {
   "cell_type": "code",
   "execution_count": null,
   "metadata": {},
   "outputs": [],
   "source": [
    "# your solution"
   ]
  },
  {
   "cell_type": "markdown",
   "metadata": {},
   "source": [
    "# Task 6: Evaluate the Goodness of Fit\n",
    "\n",
    "Objective: Use the goodness of fit test to determine whether the distribution of credit amounts for male customers matches that of female customers."
   ]
  },
  {
   "cell_type": "code",
   "execution_count": 14,
   "metadata": {},
   "outputs": [
    {
     "name": "stdout",
     "output_type": "stream",
     "text": [
      "                status  duration                            credit_history  \\\n",
      "0         ... < 100 DM         6   critical account/other credits existing   \n",
      "1    0 <= ... < 200 DM        48  existing credits paid back duly till now   \n",
      "2  no checking account        12   critical account/other credits existing   \n",
      "3         ... < 100 DM        42  existing credits paid back duly till now   \n",
      "4         ... < 100 DM        24           delay in paying off in the past   \n",
      "\n",
      "               purpose  amount                     savings  \\\n",
      "0  domestic appliances    1169  unknown/no savings account   \n",
      "1  domestic appliances    5951                ... < 100 DM   \n",
      "2           retraining    2096                ... < 100 DM   \n",
      "3     radio/television    7882                ... < 100 DM   \n",
      "4            car (new)    4870                ... < 100 DM   \n",
      "\n",
      "  employment_duration  installment_rate                  personal_status_sex  \\\n",
      "0      ... >= 7 years                 4                        male : single   \n",
      "1  1 <= ... < 4 years                 2  female : divorced/separated/married   \n",
      "2  4 <= ... < 7 years                 2                        male : single   \n",
      "3  4 <= ... < 7 years                 2                        male : single   \n",
      "4  1 <= ... < 4 years                 3                        male : single   \n",
      "\n",
      "  other_debtors  ...                                           property age  \\\n",
      "0          none  ...                                        real estate  67   \n",
      "1          none  ...                                        real estate  22   \n",
      "2          none  ...                                        real estate  49   \n",
      "3     guarantor  ...  building society savings agreement/life insurance  45   \n",
      "4          none  ...                                unknown/no property  53   \n",
      "\n",
      "   other_installment_plans   housing number_credits  \\\n",
      "0                     none       own              2   \n",
      "1                     none       own              1   \n",
      "2                     none       own              1   \n",
      "3                     none  for free              1   \n",
      "4                     none  for free              2   \n",
      "\n",
      "                         job people_liable  telephone foreign_worker  \\\n",
      "0  skilled employee/official             1        yes            yes   \n",
      "1  skilled employee/official             1         no            yes   \n",
      "2       unskilled - resident             2         no            yes   \n",
      "3  skilled employee/official             2         no            yes   \n",
      "4  skilled employee/official             2         no            yes   \n",
      "\n",
      "  credit_risk  \n",
      "0           1  \n",
      "1           0  \n",
      "2           1  \n",
      "3           1  \n",
      "4           0  \n",
      "\n",
      "[5 rows x 21 columns]\n"
     ]
    }
   ],
   "source": [
    "import pandas as pd\n",
    "\n",
    "# Load the German Credit dataset from GitHub\n",
    "url = \"https://raw.githubusercontent.com/selva86/datasets/master/GermanCredit.csv\"\n",
    "germancredit = pd.read_csv(url)\n",
    "\n",
    "# Display the first few rows of the dataset\n",
    "print(germancredit.head())"
   ]
  },
  {
   "cell_type": "code",
   "execution_count": null,
   "metadata": {},
   "outputs": [],
   "source": [
    "# your solution"
   ]
  },
  {
   "cell_type": "markdown",
   "metadata": {},
   "source": [
    "# Task 7: Evaluate the Change in Asthma Symptoms Over Time\n",
    "\n",
    "Objective: determine if there is a significant change in asthma symptoms reported by participants at two different time points."
   ]
  },
  {
   "cell_type": "code",
   "execution_count": 2,
   "metadata": {},
   "outputs": [
    {
     "name": "stdout",
     "output_type": "stream",
     "text": [
      "  know_begin know_end\n",
      "0        yes      yes\n",
      "1         no       no\n",
      "2        yes       no\n",
      "3         no       no\n",
      "4         no       no\n"
     ]
    }
   ],
   "source": [
    "import pandas as pd\n",
    "\n",
    "# Load the asthma dataset from GitHub\n",
    "url = \"https://github.com/bougioukas/basic_stats_R/raw/main/data/asthma.xlsx\"\n",
    "asthma_data = pd.read_excel(url)\n",
    "\n",
    "# Display the first few rows of the dataset\n",
    "print(asthma_data.head())"
   ]
  },
  {
   "cell_type": "code",
   "execution_count": null,
   "metadata": {},
   "outputs": [],
   "source": [
    "# your solution"
   ]
  },
  {
   "cell_type": "markdown",
   "metadata": {},
   "source": [
    "# Task 8: Differences of BG readings Over Time \n",
    "\n",
    "Objective: determine if there is a significant difference in the blood glucose (BG) readings over multiple time points.\n",
    "\n",
    "Data: let's use a hypothethical example of blood glucose (BG) readings of persons with diabetes.\n",
    "\n",
    "The test is done three times, say before, within and after a given clinical treatment and we want to know if there is a significant difference within the groups (times)."
   ]
  },
  {
   "cell_type": "code",
   "execution_count": 4,
   "metadata": {},
   "outputs": [
    {
     "data": {
      "text/html": [
       "<div>\n",
       "<style scoped>\n",
       "    .dataframe tbody tr th:only-of-type {\n",
       "        vertical-align: middle;\n",
       "    }\n",
       "\n",
       "    .dataframe tbody tr th {\n",
       "        vertical-align: top;\n",
       "    }\n",
       "\n",
       "    .dataframe thead th {\n",
       "        text-align: right;\n",
       "    }\n",
       "</style>\n",
       "<table border=\"1\" class=\"dataframe\">\n",
       "  <thead>\n",
       "    <tr style=\"text-align: right;\">\n",
       "      <th></th>\n",
       "      <th>before</th>\n",
       "      <th>during</th>\n",
       "      <th>after</th>\n",
       "    </tr>\n",
       "    <tr>\n",
       "      <th>Subject</th>\n",
       "      <th></th>\n",
       "      <th></th>\n",
       "      <th></th>\n",
       "    </tr>\n",
       "  </thead>\n",
       "  <tbody>\n",
       "    <tr>\n",
       "      <th>0</th>\n",
       "      <td>89.162573</td>\n",
       "      <td>94.023517</td>\n",
       "      <td>94.594145</td>\n",
       "    </tr>\n",
       "    <tr>\n",
       "      <th>1</th>\n",
       "      <td>90.857629</td>\n",
       "      <td>95.273755</td>\n",
       "      <td>95.040646</td>\n",
       "    </tr>\n",
       "    <tr>\n",
       "      <th>2</th>\n",
       "      <td>94.912999</td>\n",
       "      <td>96.612870</td>\n",
       "      <td>95.200472</td>\n",
       "    </tr>\n",
       "    <tr>\n",
       "      <th>3</th>\n",
       "      <td>95.254064</td>\n",
       "      <td>96.818673</td>\n",
       "      <td>97.205801</td>\n",
       "    </tr>\n",
       "    <tr>\n",
       "      <th>4</th>\n",
       "      <td>97.136291</td>\n",
       "      <td>97.760342</td>\n",
       "      <td>98.428840</td>\n",
       "    </tr>\n",
       "    <tr>\n",
       "      <th>5</th>\n",
       "      <td>99.809999</td>\n",
       "      <td>99.169227</td>\n",
       "      <td>98.867769</td>\n",
       "    </tr>\n",
       "    <tr>\n",
       "      <th>6</th>\n",
       "      <td>101.094087</td>\n",
       "      <td>99.579283</td>\n",
       "      <td>99.790581</td>\n",
       "    </tr>\n",
       "    <tr>\n",
       "      <th>7</th>\n",
       "      <td>101.531428</td>\n",
       "      <td>99.661758</td>\n",
       "      <td>100.669928</td>\n",
       "    </tr>\n",
       "    <tr>\n",
       "      <th>8</th>\n",
       "      <td>101.981148</td>\n",
       "      <td>100.812359</td>\n",
       "      <td>101.751155</td>\n",
       "    </tr>\n",
       "    <tr>\n",
       "      <th>9</th>\n",
       "      <td>101.993065</td>\n",
       "      <td>102.274035</td>\n",
       "      <td>101.751638</td>\n",
       "    </tr>\n",
       "  </tbody>\n",
       "</table>\n",
       "</div>"
      ],
      "text/plain": [
       "             before      during       after\n",
       "Subject                                    \n",
       "0         89.162573   94.023517   94.594145\n",
       "1         90.857629   95.273755   95.040646\n",
       "2         94.912999   96.612870   95.200472\n",
       "3         95.254064   96.818673   97.205801\n",
       "4         97.136291   97.760342   98.428840\n",
       "5         99.809999   99.169227   98.867769\n",
       "6        101.094087   99.579283   99.790581\n",
       "7        101.531428   99.661758  100.669928\n",
       "8        101.981148  100.812359  101.751155\n",
       "9        101.993065  102.274035  101.751638"
      ]
     },
     "execution_count": 4,
     "metadata": {},
     "output_type": "execute_result"
    }
   ],
   "source": [
    "# Read dataset from url:\n",
    "import io\n",
    "import requests\n",
    "url=\"https://raw.githubusercontent.com/trangel/stats-with-python/master/data/BG-db.csv\"\n",
    "s=requests.get(url).content\n",
    "df=pd.read_csv(io.StringIO(s.decode('utf-8')),index_col=0)\n",
    "\n",
    "\n",
    "df.columns=['before','during','after']\n",
    "df.index.name='Subject'\n",
    "df.head(10)"
   ]
  },
  {
   "cell_type": "code",
   "execution_count": null,
   "metadata": {},
   "outputs": [],
   "source": [
    "# your solution"
   ]
  },
  {
   "cell_type": "markdown",
   "metadata": {},
   "source": [
    "# Task 9: Evaluate the Change in Mice Weights Before and After Treatment\n",
    "\n",
    "Objective: determine if there is a significant difference in the weights of mice before and after treatment."
   ]
  },
  {
   "cell_type": "code",
   "execution_count": 6,
   "metadata": {},
   "outputs": [
    {
     "name": "stdout",
     "output_type": "stream",
     "text": [
      "    group  weight\n",
      "0  before   200.1\n",
      "1  before   190.9\n",
      "2  before   192.7\n",
      "3  before   213.0\n",
      "4  before   241.4\n",
      "5  before   196.9\n",
      "6  before   172.2\n",
      "7  before   185.5\n",
      "8  before   205.2\n",
      "9  before   193.7\n"
     ]
    }
   ],
   "source": [
    "import pandas as pd\n",
    "\n",
    "# Weight of the mice before treatment\n",
    "before = [200.1, 190.9, 192.7, 213, 241.4, 196.9, 172.2, 185.5, 205.2, 193.7]\n",
    "\n",
    "# Weight of the mice after treatment\n",
    "after = [392.9, 393.2, 345.1, 393, 434, 427.9, 422, 383.9, 392.3, 352.2]\n",
    "\n",
    "# Create a data frame\n",
    "my_data = pd.DataFrame({\n",
    "    'group': ['before'] * len(before) + ['after'] * len(after),\n",
    "    'weight': before + after\n",
    "})\n",
    "\n",
    "# Display the first few rows of the dataset\n",
    "print(my_data.head(10))"
   ]
  },
  {
   "cell_type": "code",
   "execution_count": null,
   "metadata": {},
   "outputs": [],
   "source": [
    "# your solution"
   ]
  },
  {
   "cell_type": "markdown",
   "metadata": {},
   "source": [
    "# Task 10: Calculate Effect Size and Power \n",
    "\n",
    "Objective: Use Python to calculate the effect size and power for a test comparing the total bill amounts between smokers and non-smokers. Interpret your results. If the power is not satisfactory - how many observations should we sample to achieve 90% power?\n",
    "\n",
    "The tips dataset contains information about tips received by waitstaff in a restaurant, including various attributes such as total bill, tip amount, sex of the bill payer, whether the payer is a smoker, day of the week, time of day, and size of the party.\n",
    "\n",
    "The tips dataset contains the following columns:\n",
    "\n",
    "total_bill: The total bill amount (including tip) in dollars.\n",
    "\n",
    "tip: The tip amount in dollars.\n",
    "\n",
    "sex: The sex of the bill payer (Male or Female).\n",
    "\n",
    "smoker: Whether the bill payer is a smoker (Yes or No).\n",
    "\n",
    "day: The day of the week (Thur, Fri, Sat, Sun).\n",
    "\n",
    "time: The time of day (Lunch or Dinner).\n",
    "\n",
    "size: The size of the party."
   ]
  },
  {
   "cell_type": "code",
   "execution_count": 8,
   "metadata": {},
   "outputs": [
    {
     "name": "stdout",
     "output_type": "stream",
     "text": [
      "   total_bill   tip     sex smoker  day    time  size\n",
      "0       16.99  1.01  Female     No  Sun  Dinner     2\n",
      "1       10.34  1.66    Male     No  Sun  Dinner     3\n",
      "2       21.01  3.50    Male     No  Sun  Dinner     3\n",
      "3       23.68  3.31    Male     No  Sun  Dinner     2\n",
      "4       24.59  3.61  Female     No  Sun  Dinner     4\n"
     ]
    }
   ],
   "source": [
    "import seaborn as sns\n",
    "import pandas as pd\n",
    "\n",
    "# Load the tips dataset\n",
    "tips = sns.load_dataset('tips')\n",
    "\n",
    "# Display the first few rows of the dataset\n",
    "print(tips.head())"
   ]
  },
  {
   "cell_type": "code",
   "execution_count": null,
   "metadata": {},
   "outputs": [],
   "source": [
    "# your solution"
   ]
  }
 ],
 "metadata": {
  "kernelspec": {
   "display_name": "Python 3",
   "language": "python",
   "name": "python3"
  },
  "language_info": {
   "codemirror_mode": {
    "name": "ipython",
    "version": 3
   },
   "file_extension": ".py",
   "mimetype": "text/x-python",
   "name": "python",
   "nbconvert_exporter": "python",
   "pygments_lexer": "ipython3",
   "version": "3.8.2"
  }
 },
 "nbformat": 4,
 "nbformat_minor": 2
}
